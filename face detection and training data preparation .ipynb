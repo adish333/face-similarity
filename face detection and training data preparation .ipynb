{
 "cells": [
  {
   "cell_type": "code",
   "execution_count": 38,
   "metadata": {},
   "outputs": [],
   "source": [
    "from os import listdir\n",
    "from itertools import combinations\n",
    "import random\n",
    "import pandas as pd\n",
    "from mtcnn.mtcnn import MTCNN\n",
    "import cv2\n",
    "detector = MTCNN()"
   ]
  },
  {
   "cell_type": "code",
   "execution_count": 39,
   "metadata": {},
   "outputs": [],
   "source": [
    "def save_face(filename, out_name, required_size=(160, 160)):\n",
    "    image = cv2.imread(filename)\n",
    "    image = cv2.cvtColor(image, cv2.COLOR_BGR2RGB)\n",
    "    results = detector.detect_faces(image)\n",
    "    x1, y1, width, height = results[0]['box']\n",
    "    x1, y1 = abs(x1), abs(y1)\n",
    "    x2, y2 = x1 + width, y1 + height\n",
    "    face = image[y1:y2, x1:x2]\n",
    "    face = cv2.resize(face, required_size)\n",
    "    face = cv2.cvtColor(face, cv2.COLOR_RGB2BGR)\n",
    "    cv2.imwrite(out_name, face)"
   ]
  },
  {
   "cell_type": "code",
   "execution_count": 42,
   "metadata": {},
   "outputs": [],
   "source": [
    "root = 'images/'\n",
    "persons = listdir(root)\n",
    "completed = listdir('data/')\n",
    "pos_images = []\n",
    "neg_images = []\n",
    "for i, person in enumerate(persons):\n",
    "    path = root+person\n",
    "    image_names = listdir(path)\n",
    "    read_image_paths = [path + '/' + item for item in image_names]\n",
    "    save_image_paths = ['data/' + item for item in image_names]\n",
    "    for read, write in zip(read_image_paths, save_image_paths):\n",
    "        if write in completed: continue\n",
    "        save_face(read, write)"
   ]
  },
  {
   "cell_type": "code",
   "execution_count": 44,
   "metadata": {},
   "outputs": [],
   "source": [
    "root = 'images/'\n",
    "persons = listdir(root)\n",
    "pos_images = []\n",
    "neg_images = []\n",
    "for i, person in enumerate(persons):\n",
    "    path = root+person\n",
    "    image_names = listdir(path) # abc_0001.jpg\n",
    "    if len(image_names)>1:\n",
    "        read_image_paths = [path + '/' + item for item in image_names]\n",
    "        save_image_paths = ['data/' + item for item in image_names]\n",
    "        comb = list(combinations(save_image_paths, 2)) \n",
    "        random.shuffle(comb)\n",
    "        pos_images += comb[:3]\n",
    "        \n",
    "        neg_idx = i\n",
    "        neg_samples = 0\n",
    "        while neg_samples <= 2: \n",
    "            neg_idx = random.randint(0, len(persons)-1)\n",
    "            if neg_idx == i: continue\n",
    "            path = root+persons[neg_idx]\n",
    "            temp = listdir(path)\n",
    "            temp = ['data/' + item for item in temp][random.randint(0, len(temp)-1)]\n",
    "            neg_images.append((comb[0][0], temp))\n",
    "            neg_samples+=1\n",
    "        "
   ]
  },
  {
   "cell_type": "code",
   "execution_count": 45,
   "metadata": {},
   "outputs": [
    {
     "data": {
      "text/plain": [
       "[('data/Fernando_Vargas_0003.jpg', 'data/Adam_Freier_0001.jpg'),\n",
       " ('data/Eric_Hinske_0001.jpg', 'data/Michelangelo_Antonioni_0001.jpg'),\n",
       " ('data/Tom_Jones_0001.jpg', 'data/Jim_OBrien_0003.jpg'),\n",
       " ('data/Naomi_Watts_0001.jpg', 'data/Don_King_0001.jpg'),\n",
       " ('data/Robert_Fico_0001.jpg', 'data/Will_Smith_0002.jpg'),\n",
       " ('data/Paradorn_Srichaphan_0003.jpg', 'data/Gene_Orza_0001.jpg'),\n",
       " ('data/Stephen_Ambrose_0001.jpg', 'data/Mark_Rosenbaum_0001.jpg'),\n",
       " ('data/Azra_Akin_0002.jpg', 'data/Anthony_Rackauckas_0001.jpg'),\n",
       " ('data/Sergey_Lavrov_0004.jpg', 'data/Willie_Wilson_0001.jpg'),\n",
       " ('data/Allyson_Felix_0001.jpg', 'data/Augustin_Calleri_0001.jpg')]"
      ]
     },
     "execution_count": 45,
     "metadata": {},
     "output_type": "execute_result"
    }
   ],
   "source": [
    "random.shuffle(pos_images)\n",
    "random.shuffle(neg_images)\n",
    "neg_images[:10]"
   ]
  },
  {
   "cell_type": "code",
   "execution_count": 46,
   "metadata": {},
   "outputs": [
    {
     "data": {
      "text/html": [
       "<div>\n",
       "<style scoped>\n",
       "    .dataframe tbody tr th:only-of-type {\n",
       "        vertical-align: middle;\n",
       "    }\n",
       "\n",
       "    .dataframe tbody tr th {\n",
       "        vertical-align: top;\n",
       "    }\n",
       "\n",
       "    .dataframe thead th {\n",
       "        text-align: right;\n",
       "    }\n",
       "</style>\n",
       "<table border=\"1\" class=\"dataframe\">\n",
       "  <thead>\n",
       "    <tr style=\"text-align: right;\">\n",
       "      <th></th>\n",
       "      <th>image1</th>\n",
       "      <th>image2</th>\n",
       "      <th>label</th>\n",
       "    </tr>\n",
       "  </thead>\n",
       "  <tbody>\n",
       "    <tr>\n",
       "      <th>0</th>\n",
       "      <td>data/Billy_Crystal_0001.jpg</td>\n",
       "      <td>data/Billy_Crystal_0003.jpg</td>\n",
       "      <td>1</td>\n",
       "    </tr>\n",
       "    <tr>\n",
       "      <th>1</th>\n",
       "      <td>data/Britney_Spears_0008.jpg</td>\n",
       "      <td>data/Britney_Spears_0014.jpg</td>\n",
       "      <td>1</td>\n",
       "    </tr>\n",
       "    <tr>\n",
       "      <th>2</th>\n",
       "      <td>data/Joseph_Deiss_0002.jpg</td>\n",
       "      <td>data/Joseph_Deiss_0003.jpg</td>\n",
       "      <td>1</td>\n",
       "    </tr>\n",
       "    <tr>\n",
       "      <th>3</th>\n",
       "      <td>data/Barbra_Streisand_0001.jpg</td>\n",
       "      <td>data/Barbra_Streisand_0002.jpg</td>\n",
       "      <td>1</td>\n",
       "    </tr>\n",
       "    <tr>\n",
       "      <th>4</th>\n",
       "      <td>data/Rebekah_Chantay_Revels_0001.jpg</td>\n",
       "      <td>data/Rebekah_Chantay_Revels_0002.jpg</td>\n",
       "      <td>1</td>\n",
       "    </tr>\n",
       "  </tbody>\n",
       "</table>\n",
       "</div>"
      ],
      "text/plain": [
       "                                 image1                                image2  \\\n",
       "0           data/Billy_Crystal_0001.jpg           data/Billy_Crystal_0003.jpg   \n",
       "1          data/Britney_Spears_0008.jpg          data/Britney_Spears_0014.jpg   \n",
       "2            data/Joseph_Deiss_0002.jpg            data/Joseph_Deiss_0003.jpg   \n",
       "3        data/Barbra_Streisand_0001.jpg        data/Barbra_Streisand_0002.jpg   \n",
       "4  data/Rebekah_Chantay_Revels_0001.jpg  data/Rebekah_Chantay_Revels_0002.jpg   \n",
       "\n",
       "   label  \n",
       "0      1  \n",
       "1      1  \n",
       "2      1  \n",
       "3      1  \n",
       "4      1  "
      ]
     },
     "execution_count": 46,
     "metadata": {},
     "output_type": "execute_result"
    }
   ],
   "source": [
    "df = pd.DataFrame()\n",
    "image1 = []\n",
    "image2 = []\n",
    "label = []\n",
    "\n",
    "for pair in pos_images[:1000]:\n",
    "    image1.append(pair[0])\n",
    "    image2.append(pair[1])\n",
    "    label.append(1)\n",
    "    \n",
    "for pair in neg_images[:1000]:\n",
    "    image1.append(pair[0])\n",
    "    image2.append(pair[1])\n",
    "    label.append(0)\n",
    "    \n",
    "df['image1'] = image1\n",
    "df['image2'] = image2\n",
    "df['label'] = label\n",
    "df.head()"
   ]
  },
  {
   "cell_type": "code",
   "execution_count": 47,
   "metadata": {},
   "outputs": [],
   "source": [
    "df.to_csv('data.csv', index=False)"
   ]
  },
  {
   "cell_type": "code",
   "execution_count": null,
   "metadata": {},
   "outputs": [],
   "source": []
  }
 ],
 "metadata": {
  "kernelspec": {
   "display_name": "Python 3",
   "language": "python",
   "name": "python3"
  },
  "language_info": {
   "codemirror_mode": {
    "name": "ipython",
    "version": 3
   },
   "file_extension": ".py",
   "mimetype": "text/x-python",
   "name": "python",
   "nbconvert_exporter": "python",
   "pygments_lexer": "ipython3",
   "version": "3.7.3"
  }
 },
 "nbformat": 4,
 "nbformat_minor": 2
}
